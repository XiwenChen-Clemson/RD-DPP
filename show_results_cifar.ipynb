{
 "cells": [
  {
   "cell_type": "code",
   "execution_count": null,
   "id": "fc90d451",
   "metadata": {},
   "outputs": [],
   "source": [
    "import numpy as np\n",
    "import matplotlib.pyplot as plt"
   ]
  },
  {
   "cell_type": "code",
   "execution_count": null,
   "id": "84c27eeb",
   "metadata": {},
   "outputs": [],
   "source": []
  },
  {
   "cell_type": "code",
   "execution_count": null,
   "id": "552554f6",
   "metadata": {},
   "outputs": [],
   "source": [
    "Net = 'EfficientNet'\n",
    "\n"
   ]
  },
  {
   "cell_type": "code",
   "execution_count": null,
   "id": "21a4ad4d",
   "metadata": {},
   "outputs": [],
   "source": [
    "\n",
    "if Net == 'EfficientNet':\n",
    "    path = '/exp_10_2/'  # the path of output file\n",
    "    Repeat = 9  # number of experiments"
   ]
  },
  {
   "cell_type": "code",
   "execution_count": null,
   "id": "9835f24e",
   "metadata": {},
   "outputs": [],
   "source": []
  },
  {
   "cell_type": "code",
   "execution_count": null,
   "id": "0f4fceb5",
   "metadata": {},
   "outputs": [],
   "source": [
    "# Total_budget//period"
   ]
  },
  {
   "cell_type": "code",
   "execution_count": null,
   "id": "070611ad",
   "metadata": {},
   "outputs": [],
   "source": [
    "# np.mean(data[::3,1,-20:],axis = 1).shape"
   ]
  },
  {
   "cell_type": "code",
   "execution_count": null,
   "id": "7084c53e",
   "metadata": {},
   "outputs": [],
   "source": [
    "Total_budget = 60\n",
    "period = 10\n",
    "\n",
    "# path = 'exp_10_2/'\n",
    "for dataset_name in ['CIFAR10']:\n",
    "    \n",
    "    Models = np.zeros((7,Total_budget//period,Repeat ))\n",
    "    \n",
    "    Transpoint =  np.zeros((2,Repeat))\n",
    "    \n",
    "    for run_index in range(Repeat):\n",
    "\n",
    "\n",
    "        name =  f'{dataset_name}_{run_index}'\n",
    "    #     np.save(path+name+'.npy', results)\n",
    "        result = np.load(Net+path+name+'.npy',allow_pickle=True)\n",
    "        \n",
    "        [acc_rand_list, acc_entropy_list, acc_margin_list, acc_base_list, acc_dpp_list_old,acc_a1_list,acc_a2_list, Status_list1, Status_list2, e_index,margin_index,base_index,dpp_index,a1_index,a2_index ] = result\n",
    "        \n",
    "        \n",
    "        for j in range(5):\n",
    "            data = result[j]\n",
    "            Models[j,:,run_index] = np.mean(data[::period,1,-20:],axis = 1)\n",
    "\n",
    "        "
   ]
  },
  {
   "cell_type": "code",
   "execution_count": null,
   "id": "fef8d043",
   "metadata": {},
   "outputs": [],
   "source": [
    "# Status_list1"
   ]
  },
  {
   "cell_type": "code",
   "execution_count": null,
   "id": "8ea9a5dc",
   "metadata": {},
   "outputs": [],
   "source": [
    "#\n"
   ]
  },
  {
   "cell_type": "code",
   "execution_count": null,
   "id": "c2a67bd4",
   "metadata": {},
   "outputs": [],
   "source": []
  },
  {
   "cell_type": "code",
   "execution_count": null,
   "id": "4bc3de93",
   "metadata": {},
   "outputs": [],
   "source": [
    "Summaray = np.zeros((7,Total_budget//period))\n",
    "Summaray_var = np.zeros((7,Total_budget//period))\n",
    "for j in range(7):\n",
    "    for i in range(Total_budget//period):\n",
    "        Summaray[j,i] = np.mean(Models[j,i,:])\n",
    "        \n",
    "        Summaray_var[j,i] = np.var(Models[j,i,:])"
   ]
  },
  {
   "cell_type": "code",
   "execution_count": null,
   "id": "82127118",
   "metadata": {},
   "outputs": [],
   "source": [
    "# fig=plt.figure(dpi=500)\n",
    "font1={'font.family':'serif',\n",
    "        'font.serif':'Times New Roman',\n",
    "        'font.style':'normal',\n",
    "        'font.weight':'bold'}#or large,small\n",
    "\n",
    "       \n",
    "plt.rcParams.update(font1)\n",
    "plt.rcParams['text.usetex'] = False\n"
   ]
  },
  {
   "cell_type": "code",
   "execution_count": null,
   "id": "e8bc4066",
   "metadata": {},
   "outputs": [],
   "source": [
    "def plot_with_variance(reward_mean, reward_std, color='yellow', savefig_dir=None,xaxis =None):\n",
    "    \"\"\"plot_with_variance\n",
    "        reward_mean: typr list, containing all the means of reward summmary scalars collected during training\n",
    "        reward_std: type list, containing all variance\n",
    "        savefig_dir: if not None, this must be a str representing the directory to save the figure\n",
    "    \"\"\"\n",
    "    half_reward_std = reward_std / 2.0\n",
    "    lower = [x - y for x, y in zip(reward_mean, half_reward_std)]\n",
    "    upper = [x + y for x, y in zip(reward_mean, half_reward_std)]\n",
    "    if xaxis is None:\n",
    "        xaxis = list(range(len(lower)))\n",
    "    plt.plot(xaxis, reward_mean, color)\n",
    "    plt.fill_between(xaxis, lower, upper, color=color[0], alpha=0.2)\n",
    "#     plt.grid()\n",
    "#     plt.xlabel('Episode')\n",
    "#     plt.ylabel('Average reward')\n",
    "#     plt.title('The convergence of rewards')\n",
    "    if savefig_dir is not None and type(savefig_dir) is str:\n",
    "        plt.savefig(savefig_dir, format='svg')\n",
    "    plt.rc('xtick', labelsize=18) \n",
    "    plt.rc('ytick', labelsize=18) \n",
    "    plt.rc('axes', labelsize=18) \n",
    "    plt.rc('axes', titlesize=18) \n",
    "    plt.rc('legend', fontsize=12)\n",
    "#     plt.show()"
   ]
  },
  {
   "cell_type": "code",
   "execution_count": null,
   "id": "a430e3d5",
   "metadata": {},
   "outputs": [],
   "source": [
    "color_space = ['m', 'm', 'r','g','b','y' ,'k-.']\n",
    "Method_index = [5,6,4,3,1,2,0]"
   ]
  },
  {
   "cell_type": "code",
   "execution_count": null,
   "id": "18e3bb86",
   "metadata": {},
   "outputs": [],
   "source": [
    "Method_inde2x = [4,3,1,2,0]"
   ]
  },
  {
   "cell_type": "code",
   "execution_count": null,
   "id": "1355e281",
   "metadata": {},
   "outputs": [],
   "source": [
    "# plot_with_variance(Summaray[j,:],np.sqrt(Summaray_var[j,:]),color='m')"
   ]
  },
  {
   "cell_type": "code",
   "execution_count": null,
   "id": "f8e63ced",
   "metadata": {},
   "outputs": [],
   "source": [
    "plt.figure(figsize= (5,5),dpi=300)\n",
    "\n",
    "\n",
    "xaxis = np.array(range(1,1+Total_budget//period))*period\n",
    "\n",
    "for j in range(7):\n",
    "    if j !=0 and j !=1:\n",
    "        idx = Method_index[j]\n",
    "        plot_with_variance(Summaray[idx,:],np.sqrt(Summaray_var[idx,:]),color = color_space[j],xaxis=xaxis)\n",
    "\n",
    "plt.xlabel('Budget')\n",
    "plt.ylabel('Accuracy')\n",
    "\n",
    "L2 = ['Rand','UD','MMD','MRG','RD-DPP','RD-DPP(TWO)']\n",
    "plt.legend(np.array(L2)[Method_inde2x])\n",
    "\n",
    "# plt.axvline(avg_trans*period,color='gray',linestyle=':')\n",
    "plt.savefig(f'{Net}_{dataset_name}_{period}.png', bbox_inches = 'tight')"
   ]
  },
  {
   "cell_type": "code",
   "execution_count": null,
   "id": "d931aa59",
   "metadata": {},
   "outputs": [],
   "source": []
  },
  {
   "cell_type": "code",
   "execution_count": null,
   "id": "9d7aeb87",
   "metadata": {},
   "outputs": [],
   "source": [
    "# save to csv\n"
   ]
  },
  {
   "cell_type": "code",
   "execution_count": null,
   "id": "049b0655",
   "metadata": {},
   "outputs": [],
   "source": []
  },
  {
   "cell_type": "code",
   "execution_count": null,
   "id": "40ed8c68",
   "metadata": {},
   "outputs": [],
   "source": []
  },
  {
   "cell_type": "code",
   "execution_count": null,
   "id": "7db5638c",
   "metadata": {},
   "outputs": [],
   "source": [
    "S=Summaray[Method_inde2x,:]\n",
    "SVAR = Summaray_var[Method_inde2x,:]"
   ]
  },
  {
   "cell_type": "code",
   "execution_count": null,
   "id": "a4a1c3d2",
   "metadata": {},
   "outputs": [],
   "source": [
    "per1 = np.zeros(S.shape,dtype=object)\n"
   ]
  },
  {
   "cell_type": "code",
   "execution_count": null,
   "id": "756ce294",
   "metadata": {},
   "outputs": [],
   "source": [
    "for i in range(per1.shape[0]):\n",
    "    for j in range(per1.shape[1]):\n",
    "        per1[i,j] = format(S[i,j]*100,'.2f')"
   ]
  },
  {
   "cell_type": "code",
   "execution_count": null,
   "id": "de3348eb",
   "metadata": {},
   "outputs": [],
   "source": [
    "S.shape"
   ]
  },
  {
   "cell_type": "code",
   "execution_count": null,
   "id": "f7cc1af2",
   "metadata": {},
   "outputs": [],
   "source": [
    "import pandas as pd\n",
    "df1 = pd.DataFrame(per1, columns = xaxis, index =np.array(L)[Method_inde2x])\n"
   ]
  },
  {
   "cell_type": "code",
   "execution_count": null,
   "id": "7ad0b55c",
   "metadata": {},
   "outputs": [],
   "source": [
    "df1"
   ]
  },
  {
   "cell_type": "code",
   "execution_count": null,
   "id": "40658d7d",
   "metadata": {},
   "outputs": [],
   "source": [
    "# df1.to_csv(f'{Net}_{dataset_name}_1_{period}.csv') "
   ]
  },
  {
   "cell_type": "code",
   "execution_count": null,
   "id": "23e1739d",
   "metadata": {},
   "outputs": [],
   "source": [
    "per2 = np.zeros((S.shape),dtype=object)\n",
    "for i in range(per1.shape[0]):\n",
    "    for j in range(per1.shape[1]):\n",
    "        per2[i,j] = format(S[i,j]*100,'.2f')+'+-'+format(np.sqrt(SVAR[i,j])*100,'.2f')"
   ]
  },
  {
   "cell_type": "code",
   "execution_count": null,
   "id": "ce5dc478",
   "metadata": {},
   "outputs": [],
   "source": [
    "df2 = pd.DataFrame(per2, columns = xaxis, index =np.array(L)[Method_inde2x])\n"
   ]
  },
  {
   "cell_type": "code",
   "execution_count": null,
   "id": "4a103fc1",
   "metadata": {},
   "outputs": [],
   "source": []
  },
  {
   "cell_type": "code",
   "execution_count": null,
   "id": "82ff58e4",
   "metadata": {},
   "outputs": [],
   "source": []
  },
  {
   "cell_type": "code",
   "execution_count": null,
   "id": "4ac5e7fb",
   "metadata": {},
   "outputs": [],
   "source": []
  },
  {
   "cell_type": "code",
   "execution_count": null,
   "id": "58e31c17",
   "metadata": {},
   "outputs": [],
   "source": []
  },
  {
   "cell_type": "code",
   "execution_count": null,
   "id": "6ac60cbe",
   "metadata": {},
   "outputs": [],
   "source": []
  },
  {
   "cell_type": "code",
   "execution_count": null,
   "id": "1a0a358d",
   "metadata": {},
   "outputs": [],
   "source": []
  },
  {
   "cell_type": "code",
   "execution_count": null,
   "id": "a1963379",
   "metadata": {},
   "outputs": [],
   "source": []
  },
  {
   "cell_type": "code",
   "execution_count": null,
   "id": "6b640b9e",
   "metadata": {},
   "outputs": [],
   "source": []
  },
  {
   "cell_type": "code",
   "execution_count": null,
   "id": "74f152da",
   "metadata": {},
   "outputs": [],
   "source": []
  },
  {
   "cell_type": "code",
   "execution_count": null,
   "id": "4a6d903e",
   "metadata": {},
   "outputs": [],
   "source": []
  },
  {
   "cell_type": "code",
   "execution_count": null,
   "id": "514b40c0",
   "metadata": {},
   "outputs": [],
   "source": []
  },
  {
   "cell_type": "code",
   "execution_count": null,
   "id": "b5036ed0",
   "metadata": {},
   "outputs": [],
   "source": []
  },
  {
   "cell_type": "code",
   "execution_count": null,
   "id": "52fe01b0",
   "metadata": {},
   "outputs": [],
   "source": []
  }
 ],
 "metadata": {
  "kernelspec": {
   "display_name": "Python 3",
   "language": "python",
   "name": "python3"
  },
  "language_info": {
   "codemirror_mode": {
    "name": "ipython",
    "version": 3
   },
   "file_extension": ".py",
   "mimetype": "text/x-python",
   "name": "python",
   "nbconvert_exporter": "python",
   "pygments_lexer": "ipython3",
   "version": "3.8.8"
  }
 },
 "nbformat": 4,
 "nbformat_minor": 5
}
