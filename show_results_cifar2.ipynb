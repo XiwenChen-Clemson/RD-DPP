{
 "cells": [
  {
   "cell_type": "code",
   "execution_count": 50,
   "id": "fc90d451",
   "metadata": {},
   "outputs": [],
   "source": [
    "import numpy as np\n",
    "import matplotlib.pyplot as plt"
   ]
  },
  {
   "cell_type": "code",
   "execution_count": null,
   "id": "84c27eeb",
   "metadata": {},
   "outputs": [],
   "source": []
  },
  {
   "cell_type": "code",
   "execution_count": 51,
   "id": "552554f6",
   "metadata": {},
   "outputs": [],
   "source": [
    "Net = 'EfficientNet'\n",
    "\n"
   ]
  },
  {
   "cell_type": "code",
   "execution_count": 137,
   "id": "21a4ad4d",
   "metadata": {},
   "outputs": [],
   "source": [
    "\n",
    "if Net == 'EfficientNet':\n",
    "    path = 'exp_up_10_efficientnet/'  # the path of output file\n",
    "    Repeat = 2  # number of experiments"
   ]
  },
  {
   "cell_type": "code",
   "execution_count": null,
   "id": "9835f24e",
   "metadata": {},
   "outputs": [],
   "source": []
  },
  {
   "cell_type": "code",
   "execution_count": 138,
   "id": "0f4fceb5",
   "metadata": {},
   "outputs": [],
   "source": [
    "# Total_budget//period"
   ]
  },
  {
   "cell_type": "code",
   "execution_count": 139,
   "id": "070611ad",
   "metadata": {},
   "outputs": [],
   "source": [
    "# np.mean(data[::3,1,-20:],axis = 1).shape"
   ]
  },
  {
   "cell_type": "code",
   "execution_count": 140,
   "id": "180041f7-01b7-4068-8a36-76d0264a97c9",
   "metadata": {},
   "outputs": [
    {
     "data": {
      "text/plain": [
       "'exp_up_10_efficientnet/CIFAR10_additional_0.npy'"
      ]
     },
     "execution_count": 140,
     "metadata": {},
     "output_type": "execute_result"
    }
   ],
   "source": [
    "path+name+'.npy'"
   ]
  },
  {
   "cell_type": "code",
   "execution_count": 141,
   "id": "7084c53e",
   "metadata": {},
   "outputs": [],
   "source": [
    "Total_budget = 60\n",
    "period = 10\n",
    "\n",
    "# path = 'exp_10_2/'\n",
    "for dataset_name in ['CIFAR10']:\n",
    "    \n",
    "    Models = np.zeros((6,Total_budget//period,Repeat ))\n",
    "    \n",
    "  \n",
    "    \n",
    "    for run_index in range(Repeat):\n",
    "\n",
    "\n",
    "        name =  f'CIFAR10_additional_{run_index}'\n",
    "    #     np.save(path+name+'.npy', results)\n",
    "        result = np.load(path+name+'.npy',allow_pickle=True)\n",
    "        \n",
    "        for j in range(6):\n",
    "            data = result[j]\n",
    "            Models[j,:,run_index] = np.mean(data[::period,1,-20:],axis = 1)\n",
    "        \n",
    "\n",
    "        "
   ]
  },
  {
   "cell_type": "code",
   "execution_count": 142,
   "id": "fef8d043",
   "metadata": {},
   "outputs": [],
   "source": [
    "# Status_list1"
   ]
  },
  {
   "cell_type": "code",
   "execution_count": 143,
   "id": "8ea9a5dc",
   "metadata": {},
   "outputs": [],
   "source": [
    "#\n"
   ]
  },
  {
   "cell_type": "code",
   "execution_count": null,
   "id": "c2a67bd4",
   "metadata": {},
   "outputs": [],
   "source": []
  },
  {
   "cell_type": "code",
   "execution_count": 144,
   "id": "4bc3de93",
   "metadata": {},
   "outputs": [],
   "source": [
    "Summaray = np.zeros((6,Total_budget//period))\n",
    "Summaray_var = np.zeros((6,Total_budget//period))\n",
    "for j in range(6):\n",
    "    for i in range(Total_budget//period):\n",
    "        Summaray[j,i] = np.mean(Models[j,i,:])\n",
    "        \n",
    "        Summaray_var[j,i] = np.var(Models[j,i,:])"
   ]
  },
  {
   "cell_type": "code",
   "execution_count": 145,
   "id": "51a4a203-0ac3-4529-ba78-ef6bdadeac74",
   "metadata": {},
   "outputs": [
    {
     "data": {
      "text/plain": [
       "array([[0.296015 , 0.347895 , 0.359765 , 0.35694  , 0.3606225, 0.401305 ],\n",
       "       [0.275005 , 0.3051275, 0.2995625, 0.3240125, 0.3338475, 0.3361625],\n",
       "       [0.2723825, 0.321405 , 0.318595 , 0.325865 , 0.3344175, 0.35169  ],\n",
       "       [0.2916525, 0.2923025, 0.3085975, 0.330325 , 0.3426925, 0.3309025],\n",
       "       [0.286375 , 0.299525 , 0.3128825, 0.3113325, 0.3293075, 0.35443  ],\n",
       "       [0.274165 , 0.3136625, 0.3244475, 0.32254  , 0.3235675, 0.3573775]])"
      ]
     },
     "execution_count": 145,
     "metadata": {},
     "output_type": "execute_result"
    }
   ],
   "source": [
    "Summaray"
   ]
  },
  {
   "cell_type": "code",
   "execution_count": 146,
   "id": "82127118",
   "metadata": {},
   "outputs": [],
   "source": [
    "# fig=plt.figure(dpi=500)\n",
    "# # font1={'font.family':'serif',\n",
    "#         'font.serif':'Times New Roman',\n",
    "#         'font.style':'normal',\n",
    "#         # 'font.weight':'bold'}#or large,small\n",
    "\n",
    "       \n",
    "plt.rcParams.update(font1)\n",
    "plt.rcParams['text.usetex'] = False\n",
    "\n",
    "# ax = fig.add_subplot(111)\n",
    "# plt.rc('xtick', labelsize=18) \n",
    "# plt.rc('ytick', labelsize=18) \n",
    "# plt.rc('axes', labelsize=18) \n",
    "# plt.rc('axes', titlesize=18) \n",
    "# plt.rc('legend', fontsize=12)"
   ]
  },
  {
   "cell_type": "code",
   "execution_count": 147,
   "id": "e8bc4066",
   "metadata": {},
   "outputs": [],
   "source": [
    "def plot_with_variance(reward_mean, reward_std, color='yellow',Label='test',savefig_dir=None,xaxis =None):\n",
    "    \"\"\"plot_with_variance\n",
    "        reward_mean: typr list, containing all the means of reward summmary scalars collected during training\n",
    "        reward_std: type list, containing all variance\n",
    "        savefig_dir: if not None, this must be a str representing the directory to save the figure\n",
    "    \"\"\"\n",
    "    half_reward_std = reward_std / 2.0\n",
    "    lower = [x - y for x, y in zip(reward_mean, half_reward_std)]\n",
    "    upper = [x + y for x, y in zip(reward_mean, half_reward_std)]\n",
    "    if xaxis is None:\n",
    "        xaxis = list(range(len(lower)))\n",
    "    # plt.fill_between(xaxis, lower, upper, color=color[0], alpha=0.2)\n",
    "    plt.fill_between(xaxis, lower, upper, color=color[0], alpha=0.2)\n",
    "    plt.plot(xaxis, reward_mean, color,label=Label)\n",
    "    \n",
    "#     plt.grid()\n",
    "#     plt.xlabel('Episode')\n",
    "#     plt.ylabel('Average reward')\n",
    "#     plt.title('The convergence of rewards')\n",
    "    if savefig_dir is not None and type(savefig_dir) is str:\n",
    "        plt.savefig(savefig_dir, format='svg')\n",
    "    # plt.rc('xtick', labelsize=18) \n",
    "    # plt.rc('ytick', labelsize=18) \n",
    "    # plt.rc('axes', labelsize=18) \n",
    "    # plt.rc('axes', titlesize=18) \n",
    "    # plt.rc('legend', fontsize=12)\n",
    "#     plt.show()"
   ]
  },
  {
   "cell_type": "code",
   "execution_count": 148,
   "id": "a430e3d5",
   "metadata": {},
   "outputs": [],
   "source": [
    "color_space = ['r','g','b','y' ,'m','k-.']\n"
   ]
  },
  {
   "cell_type": "code",
   "execution_count": 149,
   "id": "1355e281",
   "metadata": {},
   "outputs": [],
   "source": [
    "# plot_with_variance(Summaray[j,:],np.sqrt(Summaray_var[j,:]),color='m')"
   ]
  },
  {
   "cell_type": "code",
   "execution_count": 150,
   "id": "f8e63ced",
   "metadata": {},
   "outputs": [
    {
     "data": {
      "text/plain": [
       "<matplotlib.legend.Legend at 0x1467a155df40>"
      ]
     },
     "execution_count": 150,
     "metadata": {},
     "output_type": "execute_result"
    },
    {
     "data": {
      "image/png": "[encoded data removed]",
      "text/plain": [
       "<Figure size 504x504 with 1 Axes>"
      ]
     },
     "metadata": {
      "needs_background": "light"
     },
     "output_type": "display_data"
    }
   ],
   "source": [
    "plt.figure(figsize= (7,7))\n",
    "\n",
    "\n",
    "xaxis = np.array(range(1,1+Total_budget//period))*period\n",
    "\n",
    "for j in range(6):\n",
    "        idx = j\n",
    "        plot_with_variance(Summaray[idx,:],np.sqrt(Summaray_var[idx,:]),color = color_space[j],xaxis=xaxis,Label=L2[j])\n",
    "\n",
    "plt.xlabel('Budget')\n",
    "plt.ylabel('Accuracy')\n",
    "# plt.legend(['rand','entropy','min-margin','margin gain','dpp','ada 0.5', 'ada 0.2'])\n",
    "# L = ['Rand','Uncertainty Dec.','Min Margin Dec.','Marginal Rate Gain','RD-DPP (only diversity)','RD-DPP (Two stage)']\n",
    "\n",
    "# L2 = ['RD-DPP','DPP CORESET','K-CENTER CORESET','UD','MMD','Rand']\n",
    "# plt.legend(np.array(L2),ncol=3)\n",
    "plt.legend(ncol=3)\n",
    "# plt.axvline(avg_trans*period,color='gray',linestyle=':')\n",
    "# plt.savefig(f'{Net}_{dataset_name}_{period}.png', bbox_inches = 'tight')"
   ]
  },
  {
   "cell_type": "code",
   "execution_count": null,
   "id": "d931aa59",
   "metadata": {},
   "outputs": [],
   "source": []
  },
  {
   "cell_type": "code",
   "execution_count": 124,
   "id": "9d7aeb87",
   "metadata": {},
   "outputs": [],
   "source": [
    "# save to csv\n"
   ]
  },
  {
   "cell_type": "code",
   "execution_count": null,
   "id": "049b0655",
   "metadata": {},
   "outputs": [],
   "source": []
  },
  {
   "cell_type": "code",
   "execution_count": null,
   "id": "40ed8c68",
   "metadata": {},
   "outputs": [],
   "source": []
  },
  {
   "cell_type": "code",
   "execution_count": 125,
   "id": "7db5638c",
   "metadata": {},
   "outputs": [],
   "source": [
    "S=Summaray\n",
    "SVAR = Summaray_var"
   ]
  },
  {
   "cell_type": "code",
   "execution_count": 126,
   "id": "a4a1c3d2",
   "metadata": {},
   "outputs": [],
   "source": [
    "per1 = np.zeros(S.shape,dtype=object)\n"
   ]
  },
  {
   "cell_type": "code",
   "execution_count": 127,
   "id": "756ce294",
   "metadata": {},
   "outputs": [],
   "source": [
    "for i in range(per1.shape[0]):\n",
    "    for j in range(per1.shape[1]):\n",
    "        per1[i,j] = format(S[i,j]*100,'.2f')"
   ]
  },
  {
   "cell_type": "code",
   "execution_count": 128,
   "id": "de3348eb",
   "metadata": {},
   "outputs": [
    {
     "data": {
      "text/plain": [
       "(6, 6)"
      ]
     },
     "execution_count": 128,
     "metadata": {},
     "output_type": "execute_result"
    }
   ],
   "source": [
    "S.shape"
   ]
  },
  {
   "cell_type": "code",
   "execution_count": 129,
   "id": "f7cc1af2",
   "metadata": {},
   "outputs": [],
   "source": [
    "import pandas as pd\n",
    "df1 = pd.DataFrame(per1, columns = xaxis, index =np.array(L2))\n"
   ]
  },
  {
   "cell_type": "code",
   "execution_count": 130,
   "id": "7ad0b55c",
   "metadata": {},
   "outputs": [
    {
     "data": {
      "text/html": [
       "<div>\n",
       "<style scoped>\n",
       "    .dataframe tbody tr th:only-of-type {\n",
       "        vertical-align: middle;\n",
       "    }\n",
       "\n",
       "    .dataframe tbody tr th {\n",
       "        vertical-align: top;\n",
       "    }\n",
       "\n",
       "    .dataframe thead th {\n",
       "        text-align: right;\n",
       "    }\n",
       "</style>\n",
       "<table border=\"1\" class=\"dataframe\">\n",
       "  <thead>\n",
       "    <tr style=\"text-align: right;\">\n",
       "      <th></th>\n",
       "      <th>10</th>\n",
       "      <th>20</th>\n",
       "      <th>30</th>\n",
       "      <th>40</th>\n",
       "      <th>50</th>\n",
       "      <th>60</th>\n",
       "    </tr>\n",
       "  </thead>\n",
       "  <tbody>\n",
       "    <tr>\n",
       "      <th>RD-DPP</th>\n",
       "      <td>29.56</td>\n",
       "      <td>35.21</td>\n",
       "      <td>34.74</td>\n",
       "      <td>35.49</td>\n",
       "      <td>35.03</td>\n",
       "      <td>39.85</td>\n",
       "    </tr>\n",
       "    <tr>\n",
       "      <th>DPP CORESET</th>\n",
       "      <td>26.27</td>\n",
       "      <td>30.18</td>\n",
       "      <td>29.51</td>\n",
       "      <td>30.23</td>\n",
       "      <td>31.31</td>\n",
       "      <td>33.27</td>\n",
       "    </tr>\n",
       "    <tr>\n",
       "      <th>K-CENTER CORESET</th>\n",
       "      <td>28.44</td>\n",
       "      <td>32.70</td>\n",
       "      <td>31.85</td>\n",
       "      <td>31.51</td>\n",
       "      <td>32.94</td>\n",
       "      <td>34.38</td>\n",
       "    </tr>\n",
       "    <tr>\n",
       "      <th>UD</th>\n",
       "      <td>26.62</td>\n",
       "      <td>27.35</td>\n",
       "      <td>30.45</td>\n",
       "      <td>33.11</td>\n",
       "      <td>32.32</td>\n",
       "      <td>33.08</td>\n",
       "    </tr>\n",
       "    <tr>\n",
       "      <th>MMD</th>\n",
       "      <td>27.39</td>\n",
       "      <td>30.27</td>\n",
       "      <td>31.25</td>\n",
       "      <td>29.94</td>\n",
       "      <td>31.33</td>\n",
       "      <td>36.76</td>\n",
       "    </tr>\n",
       "    <tr>\n",
       "      <th>Rand</th>\n",
       "      <td>26.13</td>\n",
       "      <td>30.53</td>\n",
       "      <td>30.71</td>\n",
       "      <td>30.17</td>\n",
       "      <td>32.46</td>\n",
       "      <td>34.46</td>\n",
       "    </tr>\n",
       "  </tbody>\n",
       "</table>\n",
       "</div>"
      ],
      "text/plain": [
       "                     10     20     30     40     50     60\n",
       "RD-DPP            29.56  35.21  34.74  35.49  35.03  39.85\n",
       "DPP CORESET       26.27  30.18  29.51  30.23  31.31  33.27\n",
       "K-CENTER CORESET  28.44  32.70  31.85  31.51  32.94  34.38\n",
       "UD                26.62  27.35  30.45  33.11  32.32  33.08\n",
       "MMD               27.39  30.27  31.25  29.94  31.33  36.76\n",
       "Rand              26.13  30.53  30.71  30.17  32.46  34.46"
      ]
     },
     "execution_count": 130,
     "metadata": {},
     "output_type": "execute_result"
    }
   ],
   "source": [
    "df1"
   ]
  },
  {
   "cell_type": "code",
   "execution_count": 131,
   "id": "40658d7d",
   "metadata": {},
   "outputs": [],
   "source": [
    "# df1.to_csv(f'{Net}_{dataset_name}_1_{period}.csv') "
   ]
  },
  {
   "cell_type": "code",
   "execution_count": 134,
   "id": "23e1739d",
   "metadata": {},
   "outputs": [],
   "source": [
    "per2 = np.zeros((S.shape),dtype=object)\n",
    "for i in range(per1.shape[0]):\n",
    "    for j in range(per1.shape[1]):\n",
    "        per2[i,j] = format(S[i,j]*100,'.2f')+'+-'+format(np.sqrt(SVAR[i,j])*100,'.2f')"
   ]
  },
  {
   "cell_type": "code",
   "execution_count": 136,
   "id": "ce5dc478",
   "metadata": {},
   "outputs": [
    {
     "data": {
      "text/html": [
       "<div>\n",
       "<style scoped>\n",
       "    .dataframe tbody tr th:only-of-type {\n",
       "        vertical-align: middle;\n",
       "    }\n",
       "\n",
       "    .dataframe tbody tr th {\n",
       "        vertical-align: top;\n",
       "    }\n",
       "\n",
       "    .dataframe thead th {\n",
       "        text-align: right;\n",
       "    }\n",
       "</style>\n",
       "<table border=\"1\" class=\"dataframe\">\n",
       "  <thead>\n",
       "    <tr style=\"text-align: right;\">\n",
       "      <th></th>\n",
       "      <th>10</th>\n",
       "      <th>20</th>\n",
       "      <th>30</th>\n",
       "      <th>40</th>\n",
       "      <th>50</th>\n",
       "      <th>60</th>\n",
       "    </tr>\n",
       "  </thead>\n",
       "  <tbody>\n",
       "    <tr>\n",
       "      <th>RD-DPP</th>\n",
       "      <td>29.56+-0.00</td>\n",
       "      <td>35.21+-0.00</td>\n",
       "      <td>34.74+-0.00</td>\n",
       "      <td>35.49+-0.00</td>\n",
       "      <td>35.03+-0.00</td>\n",
       "      <td>39.85+-0.00</td>\n",
       "    </tr>\n",
       "    <tr>\n",
       "      <th>DPP CORESET</th>\n",
       "      <td>26.27+-0.00</td>\n",
       "      <td>30.18+-0.00</td>\n",
       "      <td>29.51+-0.00</td>\n",
       "      <td>30.23+-0.00</td>\n",
       "      <td>31.31+-0.00</td>\n",
       "      <td>33.27+-0.00</td>\n",
       "    </tr>\n",
       "    <tr>\n",
       "      <th>K-CENTER CORESET</th>\n",
       "      <td>28.44+-0.00</td>\n",
       "      <td>32.70+-0.00</td>\n",
       "      <td>31.85+-0.00</td>\n",
       "      <td>31.51+-0.00</td>\n",
       "      <td>32.94+-0.00</td>\n",
       "      <td>34.38+-0.00</td>\n",
       "    </tr>\n",
       "    <tr>\n",
       "      <th>UD</th>\n",
       "      <td>26.62+-0.00</td>\n",
       "      <td>27.35+-0.00</td>\n",
       "      <td>30.45+-0.00</td>\n",
       "      <td>33.11+-0.00</td>\n",
       "      <td>32.32+-0.00</td>\n",
       "      <td>33.08+-0.00</td>\n",
       "    </tr>\n",
       "    <tr>\n",
       "      <th>MMD</th>\n",
       "      <td>27.39+-0.00</td>\n",
       "      <td>30.27+-0.00</td>\n",
       "      <td>31.25+-0.00</td>\n",
       "      <td>29.94+-0.00</td>\n",
       "      <td>31.33+-0.00</td>\n",
       "      <td>36.76+-0.00</td>\n",
       "    </tr>\n",
       "    <tr>\n",
       "      <th>Rand</th>\n",
       "      <td>26.13+-0.00</td>\n",
       "      <td>30.53+-0.00</td>\n",
       "      <td>30.71+-0.00</td>\n",
       "      <td>30.17+-0.00</td>\n",
       "      <td>32.46+-0.00</td>\n",
       "      <td>34.46+-0.00</td>\n",
       "    </tr>\n",
       "  </tbody>\n",
       "</table>\n",
       "</div>"
      ],
      "text/plain": [
       "                           10           20           30           40  \\\n",
       "RD-DPP            29.56+-0.00  35.21+-0.00  34.74+-0.00  35.49+-0.00   \n",
       "DPP CORESET       26.27+-0.00  30.18+-0.00  29.51+-0.00  30.23+-0.00   \n",
       "K-CENTER CORESET  28.44+-0.00  32.70+-0.00  31.85+-0.00  31.51+-0.00   \n",
       "UD                26.62+-0.00  27.35+-0.00  30.45+-0.00  33.11+-0.00   \n",
       "MMD               27.39+-0.00  30.27+-0.00  31.25+-0.00  29.94+-0.00   \n",
       "Rand              26.13+-0.00  30.53+-0.00  30.71+-0.00  30.17+-0.00   \n",
       "\n",
       "                           50           60  \n",
       "RD-DPP            35.03+-0.00  39.85+-0.00  \n",
       "DPP CORESET       31.31+-0.00  33.27+-0.00  \n",
       "K-CENTER CORESET  32.94+-0.00  34.38+-0.00  \n",
       "UD                32.32+-0.00  33.08+-0.00  \n",
       "MMD               31.33+-0.00  36.76+-0.00  \n",
       "Rand              32.46+-0.00  34.46+-0.00  "
      ]
     },
     "execution_count": 136,
     "metadata": {},
     "output_type": "execute_result"
    }
   ],
   "source": [
    "df2 = pd.DataFrame(per2, columns = xaxis, index =np.array(L2))\n",
    "df2"
   ]
  },
  {
   "cell_type": "code",
   "execution_count": null,
   "id": "4a103fc1",
   "metadata": {},
   "outputs": [],
   "source": []
  },
  {
   "cell_type": "code",
   "execution_count": null,
   "id": "82ff58e4",
   "metadata": {},
   "outputs": [],
   "source": []
  },
  {
   "cell_type": "code",
   "execution_count": null,
   "id": "4ac5e7fb",
   "metadata": {},
   "outputs": [],
   "source": []
  },
  {
   "cell_type": "code",
   "execution_count": null,
   "id": "58e31c17",
   "metadata": {},
   "outputs": [],
   "source": []
  },
  {
   "cell_type": "code",
   "execution_count": null,
   "id": "6ac60cbe",
   "metadata": {},
   "outputs": [],
   "source": []
  },
  {
   "cell_type": "code",
   "execution_count": null,
   "id": "1a0a358d",
   "metadata": {},
   "outputs": [],
   "source": []
  },
  {
   "cell_type": "code",
   "execution_count": null,
   "id": "a1963379",
   "metadata": {},
   "outputs": [],
   "source": []
  },
  {
   "cell_type": "code",
   "execution_count": null,
   "id": "6b640b9e",
   "metadata": {},
   "outputs": [],
   "source": []
  },
  {
   "cell_type": "code",
   "execution_count": null,
   "id": "74f152da",
   "metadata": {},
   "outputs": [],
   "source": []
  },
  {
   "cell_type": "code",
   "execution_count": null,
   "id": "4a6d903e",
   "metadata": {},
   "outputs": [],
   "source": []
  },
  {
   "cell_type": "code",
   "execution_count": null,
   "id": "514b40c0",
   "metadata": {},
   "outputs": [],
   "source": []
  },
  {
   "cell_type": "code",
   "execution_count": null,
   "id": "b5036ed0",
   "metadata": {},
   "outputs": [],
   "source": []
  },
  {
   "cell_type": "code",
   "execution_count": null,
   "id": "52fe01b0",
   "metadata": {},
   "outputs": [],
   "source": []
  }
 ],
 "metadata": {
  "kernelspec": {
   "display_name": "Python 3 (ipykernel)",
   "language": "python",
   "name": "python3"
  },
  "language_info": {
   "codemirror_mode": {
    "name": "ipython",
    "version": 3
   },
   "file_extension": ".py",
   "mimetype": "text/x-python",
   "name": "python",
   "nbconvert_exporter": "python",
   "pygments_lexer": "ipython3",
   "version": "3.9.12"
  }
 },
 "nbformat": 4,
 "nbformat_minor": 5
}
